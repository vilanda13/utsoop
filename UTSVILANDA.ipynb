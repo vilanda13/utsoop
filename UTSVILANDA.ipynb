{
  "nbformat": 4,
  "nbformat_minor": 0,
  "metadata": {
    "colab": {
      "provenance": [],
      "authorship_tag": "ABX9TyOtxGc/Pm14l81reGmuyP4Z",
      "include_colab_link": true
    },
    "kernelspec": {
      "name": "python3",
      "display_name": "Python 3"
    },
    "language_info": {
      "name": "python"
    }
  },
  "cells": [
    {
      "cell_type": "markdown",
      "metadata": {
        "id": "view-in-github",
        "colab_type": "text"
      },
      "source": [
        "<a href=\"https://colab.research.google.com/github/vilanda13/utsoop/blob/main/UTSVILANDA.ipynb\" target=\"_parent\"><img src=\"https://colab.research.google.com/assets/colab-badge.svg\" alt=\"Open In Colab\"/></a>"
      ]
    },
    {
      "cell_type": "code",
      "execution_count": 1,
      "metadata": {
        "colab": {
          "base_uri": "https://localhost:8080/"
        },
        "id": "RjYrZ57JWUwP",
        "outputId": "6e21d9a7-78ab-4c82-c4d0-4f7b3eefb73d"
      },
      "outputs": [
        {
          "output_type": "stream",
          "name": "stdout",
          "text": [
            "   0  1  2\n",
            "0  1  2  3\n",
            "1  4  5  6\n",
            "2  7  8  9\n"
          ]
        }
      ],
      "source": [
        "# Import library pandas\n",
        "import pandas as pd\n",
        "\n",
        "# Definisikan data\n",
        "data = [\n",
        "    [1, 2, 3],\n",
        "    [4, 5, 6],\n",
        "    [7, 8, 9]\n",
        "]\n",
        "\n",
        "# Buat DataFrame dari data\n",
        "df = pd.DataFrame(data)\n",
        "\n",
        "# Tampilkan DataFrame\n",
        "print(df)"
      ]
    },
    {
      "cell_type": "code",
      "source": [
        "import numpy as np\n",
        "\n",
        "# Definisi dua titik\n",
        "p1 = np.array([1, 2])\n",
        "p2 = np.array([3, 4])\n",
        "\n",
        "# Fungsi untuk menghitung jarak Euclidean\n",
        "def euclidean_distance(point1, point2):\n",
        "    return np.sqrt(np.sum((point1 - point2)**2))\n",
        "\n",
        "# Menghitung jarak Euclidean antara p1 dan p2\n",
        "distance = euclidean_distance(p1, p2)\n",
        "\n",
        "# Menampilkan hasil\n",
        "print(f\"Titik 1: {p1}\")\n",
        "print(f\"Titik 2: {p2}\")\n",
        "print(f\"Jarak Euclidean: {distance}\")"
      ],
      "metadata": {
        "colab": {
          "base_uri": "https://localhost:8080/"
        },
        "id": "fFF5Kw1TeU9k",
        "outputId": "1851cded-9d61-4d0b-a2df-cc8202e71924"
      },
      "execution_count": 2,
      "outputs": [
        {
          "output_type": "stream",
          "name": "stdout",
          "text": [
            "Titik 1: [1 2]\n",
            "Titik 2: [3 4]\n",
            "Jarak Euclidean: 2.8284271247461903\n"
          ]
        }
      ]
    },
    {
      "cell_type": "code",
      "source": [
        "from sklearn.neighbors import KNeighborsClassifier\n",
        "# Data\n",
        "data = [\n",
        "    [1, 2, 'A'],\n",
        "    [4, 5, 'B'],\n",
        "    [7, 8, 'A'],\n",
        "]\n",
        "# Pisahkan fitur (features) dan label (target)\n",
        "X = [[row[0], row[1]] for row in data]\n",
        "y = [row[2] for row in data]\n",
        "# Inisialisasi model KNN dengan k=1\n",
        "model = KNeighborsClassifier(n_neighbors=1)\n",
        "\n",
        "# Melatih model\n",
        "model.fit(X, y)\n",
        "\n",
        "# Data baru yang akan diklasifikasikan\n",
        "data_test = [\n",
        "    [2, 3],\n",
        "    [6, 7],\n",
        "]\n",
        "# Melakukan prediksi menggunakan model\n",
        "prediksi = model.predict(data_test)\n",
        "# Menampilkan hasil prediksi\n",
        "for i, hasil in enumerate(prediksi):\n",
        "    print(f'Data {data_test[i]} diklasifikasikan sebagai kelas {hasil}')"
      ],
      "metadata": {
        "colab": {
          "base_uri": "https://localhost:8080/"
        },
        "id": "RvyC4rMEegJQ",
        "outputId": "a0c31198-b810-4b63-99cc-34a343bfbdf4"
      },
      "execution_count": 3,
      "outputs": [
        {
          "output_type": "stream",
          "name": "stdout",
          "text": [
            "Data [2, 3] diklasifikasikan sebagai kelas A\n",
            "Data [6, 7] diklasifikasikan sebagai kelas A\n"
          ]
        }
      ]
    },
    {
      "cell_type": "code",
      "source": [],
      "metadata": {
        "id": "Tu6afY8Wel1p"
      },
      "execution_count": null,
      "outputs": []
    }
  ]
}